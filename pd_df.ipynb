{
 "cells": [
  {
   "cell_type": "code",
   "execution_count": 30,
   "metadata": {},
   "outputs": [
    {
     "data": {
      "text/plain": [
       "True"
      ]
     },
     "execution_count": 30,
     "metadata": {},
     "output_type": "execute_result"
    }
   ],
   "source": [
    "from dotenv import load_dotenv, find_dotenv\n",
    "import pandas as pd\n",
    "\n",
    "load_dotenv(find_dotenv())"
   ]
  },
  {
   "cell_type": "code",
   "execution_count": 31,
   "metadata": {},
   "outputs": [],
   "source": [
    "from langchain.chat_models import ChatOpenAI\n",
    "from langchain.agents import create_pandas_dataframe_agent"
   ]
  },
  {
   "cell_type": "code",
   "execution_count": 32,
   "metadata": {},
   "outputs": [
    {
     "data": {
      "text/html": [
       "<div>\n",
       "<style scoped>\n",
       "    .dataframe tbody tr th:only-of-type {\n",
       "        vertical-align: middle;\n",
       "    }\n",
       "\n",
       "    .dataframe tbody tr th {\n",
       "        vertical-align: top;\n",
       "    }\n",
       "\n",
       "    .dataframe thead th {\n",
       "        text-align: right;\n",
       "    }\n",
       "</style>\n",
       "<table border=\"1\" class=\"dataframe\">\n",
       "  <thead>\n",
       "    <tr style=\"text-align: right;\">\n",
       "      <th></th>\n",
       "      <th>Account Name</th>\n",
       "      <th>Opportunity Name</th>\n",
       "      <th>Opportunity Owner</th>\n",
       "      <th>Region</th>\n",
       "      <th>Country</th>\n",
       "      <th>State</th>\n",
       "      <th>City</th>\n",
       "      <th>Division</th>\n",
       "      <th>Term (Months)</th>\n",
       "      <th>Industry</th>\n",
       "      <th>...</th>\n",
       "      <th>Stage Duration</th>\n",
       "      <th>Close Date</th>\n",
       "      <th>Next Step</th>\n",
       "      <th>Won/Lost Reason</th>\n",
       "      <th>Opp ID</th>\n",
       "      <th>Product</th>\n",
       "      <th>Product Sub-Category</th>\n",
       "      <th>C&amp;I Sales Rep</th>\n",
       "      <th>Account Owner</th>\n",
       "      <th>Contact</th>\n",
       "    </tr>\n",
       "  </thead>\n",
       "  <tbody>\n",
       "    <tr>\n",
       "      <th>0</th>\n",
       "      <td>Ferbine Private Limited</td>\n",
       "      <td>New Umbrella Entity (Nue) For Retail Payments ...</td>\n",
       "      <td>Salman Sunny</td>\n",
       "      <td>AP</td>\n",
       "      <td>India</td>\n",
       "      <td>Maharashtra</td>\n",
       "      <td>Mumbai</td>\n",
       "      <td>South Asia</td>\n",
       "      <td>120</td>\n",
       "      <td>Channel Partners &amp; Enablers</td>\n",
       "      <td>...</td>\n",
       "      <td>70</td>\n",
       "      <td>7/3/2023</td>\n",
       "      <td>We have been inducted as part of the consortiu...</td>\n",
       "      <td>RFP cancelled - Customer; Cancelled</td>\n",
       "      <td>0063j000010fvla</td>\n",
       "      <td>C&amp;I</td>\n",
       "      <td>Accountholder Authentication Value (AAV) Valid...</td>\n",
       "      <td>Unmapped</td>\n",
       "      <td>Salman Sunny</td>\n",
       "      <td>Salman Sunny</td>\n",
       "    </tr>\n",
       "    <tr>\n",
       "      <th>1</th>\n",
       "      <td>1Link</td>\n",
       "      <td>Paypak Pvl Enablement</td>\n",
       "      <td>Ali Saqib</td>\n",
       "      <td>EEMEA</td>\n",
       "      <td>Pakistan</td>\n",
       "      <td>Sindh</td>\n",
       "      <td>Karachi</td>\n",
       "      <td>MENA</td>\n",
       "      <td>60</td>\n",
       "      <td>Financial Institution (Non-CGI)</td>\n",
       "      <td>...</td>\n",
       "      <td>12</td>\n",
       "      <td>8/31/2023</td>\n",
       "      <td>Present the opportunity to the central bank al...</td>\n",
       "      <td></td>\n",
       "      <td>0063j00000zNCaQ</td>\n",
       "      <td>C&amp;I</td>\n",
       "      <td>Private Label - Processing</td>\n",
       "      <td>Unmapped</td>\n",
       "      <td>Ali Saqib</td>\n",
       "      <td>Ali Saqib</td>\n",
       "    </tr>\n",
       "  </tbody>\n",
       "</table>\n",
       "<p>2 rows × 38 columns</p>\n",
       "</div>"
      ],
      "text/plain": [
       "              Account Name                                   Opportunity Name   \n",
       "0  Ferbine Private Limited  New Umbrella Entity (Nue) For Retail Payments ...  \\\n",
       "1                    1Link                              Paypak Pvl Enablement   \n",
       "\n",
       "  Opportunity Owner Region   Country        State     City    Division   \n",
       "0      Salman Sunny     AP     India  Maharashtra   Mumbai  South Asia  \\\n",
       "1         Ali Saqib  EEMEA  Pakistan        Sindh  Karachi        MENA   \n",
       "\n",
       "   Term (Months)                         Industry  ... Stage Duration   \n",
       "0            120      Channel Partners & Enablers  ...             70  \\\n",
       "1             60  Financial Institution (Non-CGI)  ...             12   \n",
       "\n",
       "  Close Date                                          Next Step   \n",
       "0   7/3/2023  We have been inducted as part of the consortiu...  \\\n",
       "1  8/31/2023  Present the opportunity to the central bank al...   \n",
       "\n",
       "                       Won/Lost Reason           Opp ID Product   \n",
       "0  RFP cancelled - Customer; Cancelled  0063j000010fvla     C&I  \\\n",
       "1                                       0063j00000zNCaQ     C&I   \n",
       "\n",
       "                                Product Sub-Category C&I Sales Rep   \n",
       "0  Accountholder Authentication Value (AAV) Valid...      Unmapped  \\\n",
       "1                         Private Label - Processing      Unmapped   \n",
       "\n",
       "  Account Owner       Contact  \n",
       "0  Salman Sunny  Salman Sunny  \n",
       "1     Ali Saqib     Ali Saqib  \n",
       "\n",
       "[2 rows x 38 columns]"
      ]
     },
     "execution_count": 32,
     "metadata": {},
     "output_type": "execute_result"
    }
   ],
   "source": [
    "df = pd.read_csv('test_data.csv')\n",
    "df"
   ]
  },
  {
   "cell_type": "code",
   "execution_count": 35,
   "metadata": {},
   "outputs": [],
   "source": [
    "chat = ChatOpenAI(model_name=\"gpt-3.5-turbo\", temperature=0.1)\n",
    "\n",
    "agent = create_pandas_dataframe_agent(chat, df, verbose=True)"
   ]
  },
  {
   "cell_type": "code",
   "execution_count": 36,
   "metadata": {},
   "outputs": [
    {
     "name": "stdout",
     "output_type": "stream",
     "text": [
      "\n",
      "\n",
      "\u001b[1m> Entering new AgentExecutor chain...\u001b[0m\n",
      "\u001b[32;1m\u001b[1;3mThought: We can use the `shape` attribute of the dataframe to get the number of rows and columns.\n",
      "Action: python_repl_ast\n",
      "Action Input: df.shape[0]\u001b[0m\n",
      "Observation: \u001b[36;1m\u001b[1;3m2\u001b[0m\n",
      "Thought:\u001b[32;1m\u001b[1;3mThe number 2 is the number of rows in the dataframe.\n",
      "Final Answer: There are 2 rows in the database.\u001b[0m\n",
      "\n",
      "\u001b[1m> Finished chain.\u001b[0m\n"
     ]
    },
    {
     "data": {
      "text/plain": [
       "'There are 2 rows in the database.'"
      ]
     },
     "execution_count": 36,
     "metadata": {},
     "output_type": "execute_result"
    }
   ],
   "source": [
    "agent.run(\"How many rows are there in the database?\")"
   ]
  },
  {
   "cell_type": "code",
   "execution_count": null,
   "metadata": {},
   "outputs": [],
   "source": []
  }
 ],
 "metadata": {
  "kernelspec": {
   "display_name": "CHRONOS-Ah9kPzXc",
   "language": "python",
   "name": "python3"
  },
  "language_info": {
   "codemirror_mode": {
    "name": "ipython",
    "version": 3
   },
   "file_extension": ".py",
   "mimetype": "text/x-python",
   "name": "python",
   "nbconvert_exporter": "python",
   "pygments_lexer": "ipython3",
   "version": "3.11.3"
  },
  "orig_nbformat": 4
 },
 "nbformat": 4,
 "nbformat_minor": 2
}
